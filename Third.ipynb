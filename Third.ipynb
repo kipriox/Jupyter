{
  "nbformat": 4,
  "nbformat_minor": 0,
  "metadata": {
    "colab": {
      "name": "Third.ipynb",
      "provenance": [],
      "collapsed_sections": [],
      "authorship_tag": "ABX9TyOWSopw/tqfJrpqe9xUZ6Zr",
      "include_colab_link": true
    },
    "kernelspec": {
      "name": "python3",
      "display_name": "Python 3"
    },
    "language_info": {
      "name": "python"
    }
  },
  "cells": [
    {
      "cell_type": "markdown",
      "metadata": {
        "id": "view-in-github",
        "colab_type": "text"
      },
      "source": [
        "<a href=\"https://colab.research.google.com/github/kipriox/Jupyter/blob/develop/Third.ipynb\" target=\"_parent\"><img src=\"https://colab.research.google.com/assets/colab-badge.svg\" alt=\"Open In Colab\"/></a>"
      ]
    },
    {
      "cell_type": "code",
      "execution_count": null,
      "metadata": {
        "colab": {
          "base_uri": "https://localhost:8080/"
        },
        "id": "qszAIJo1g-sm",
        "outputId": "07bca499-dd9e-48e6-f73d-c25f58ecf45c"
      },
      "outputs": [
        {
          "output_type": "stream",
          "name": "stdout",
          "text": [
            "0\n",
            "1\n",
            "2\n",
            "\n",
            "Переменные равны\n",
            "Соединение отсутствует\n",
            "10\n",
            "\n",
            "Нечетное число\n",
            "Четное число\n"
          ]
        }
      ],
      "source": [
        "#Печать переменной, если соответствует условию\n",
        "i=0\n",
        "while i < 3:\n",
        "    print(i)\n",
        "    i = i+1\n",
        "print(\"\")\n",
        "\n",
        "#Определение равенства или неравенства переменных\n",
        "a = 22\n",
        "b = 22\n",
        "\n",
        "if a == b:\n",
        "    print(\"Переменные равны\")\n",
        "else:\n",
        "    print(\"Переменные не равны\")\n",
        "\n",
        "#Определение наличия соединения    \n",
        "is_sql_connection = False\n",
        "\n",
        "if is_sql_connection:\n",
        "    print(\"Есть соединение\")\n",
        "else:\n",
        "    print(\"Соединение отсутствует\")\n",
        "\n",
        "#Суммирование чисел из списка\n",
        "summ = 0\n",
        "for i in range(5):  \n",
        "    summ + i\n",
        "    summ = summ + i\n",
        "    \n",
        "print(summ)\n",
        "print(\"\")\n",
        "\n",
        "#Определение четности или нечетности числа\n",
        "def function_2(a):\n",
        "    if a%2 == 0:\n",
        "        print(\"Четное число\")\n",
        "    else:\n",
        "        print(\"Нечетное число\")\n",
        "\n",
        "       \n",
        "function_2(9)\n",
        "function_2(10)"
      ]
    }
  ]
}